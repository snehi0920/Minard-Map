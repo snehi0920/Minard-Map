{
 "cells": [
  {
   "cell_type": "code",
   "execution_count": 1,
   "metadata": {},
   "outputs": [],
   "source": [
    "import pandas as pd\n",
    "import geopandas as gpd\n",
    "from bokeh.plotting import figure, show, output_file, ColumnDataSource\n",
    "from bokeh.models import LabelSet, HoverTool\n",
    "from bokeh.palettes import Viridis, Category20"
   ]
  },
  {
   "cell_type": "code",
   "execution_count": null,
   "metadata": {},
   "outputs": [
    {
     "name": "stdout",
     "output_type": "stream",
     "text": [
      "   lonc  latc       city  lont  temp  days    date  lonp  latp  surviv direc  \\\n",
      "0  24.0  55.0      Kowno  37.6   0.0   6.0  Oct-18  24.0  54.9  340000     A   \n",
      "1  25.3  54.7      Wilna  36.0   0.0   6.0  Oct-24  24.5  55.0  340000     A   \n",
      "2  26.4  54.4   Smorgoni  33.2  -9.0  16.0  Nov-09  25.5  54.5  340000     A   \n",
      "3  26.8  54.3  Molodexno  32.0 -21.0   5.0  Nov-14  26.0  54.7  320000     A   \n",
      "4  27.7  55.2  Gloubokoe  29.2 -11.0  10.0       -  27.0  54.8  300000     A   \n",
      "\n",
      "   division  \n",
      "0         1  \n",
      "1         1  \n",
      "2         1  \n",
      "3         1  \n",
      "4         1  \n"
     ]
    }
   ],
   "source": [
    "# Load combined dataset\n",
    "data = pd.read_csv('minard_fixed.csv')\n",
    "print(data.head())\n",
    "\n",
    "# Load the rivers data\n",
    "rivers = gpd.read_file(\"rivers_europe.geojson\")"
   ]
  },
  {
   "cell_type": "code",
   "execution_count": 3,
   "metadata": {},
   "outputs": [],
   "source": [
    "# Parse the data into separate dataframes\n",
    "cities = data[[\"lonc\", \"latc\", \"city\"]].dropna()\n",
    "cities.columns = ['Longitude', 'Latitude', 'City']\n",
    "\n",
    "temperatures = data[[\"temp\", \"date\"]].dropna()\n",
    "\n",
    "troops = data[[\"lonp\", \"latp\", \"surviv\", \"direc\", \"division\"]].dropna()\n",
    "troops_attack = troops[troops.direc == 'A']\n",
    "troops_retreat = troops[troops.direc == 'R']\n",
    "\n",
    "\n"
   ]
  },
  {
   "cell_type": "code",
   "execution_count": null,
   "metadata": {},
   "outputs": [],
   "source": [
    "# Helper function to extract coordinates from a geometry\n",
    "def extract_coordinates(geometry):\n",
    "    if geometry.geom_type == 'LineString':\n",
    "        return [list(geometry.coords.xy[0]), list(geometry.coords.xy[1])]\n",
    "    elif geometry.geom_type == 'MultiLineString':\n",
    "        xs, ys = [], []\n",
    "        for line in geometry.geoms:  \n",
    "            xs.append(list(line.coords.xy[0]))\n",
    "            ys.append(list(line.coords.xy[1]))\n",
    "        return xs, ys\n",
    "    else:\n",
    "        return None, None\n",
    "\n"
   ]
  },
  {
   "cell_type": "code",
   "execution_count": 5,
   "metadata": {},
   "outputs": [],
   "source": [
    "# Extracting xs and ys from the river geometries\n",
    "xs, ys = [], []\n",
    "for geom in rivers.geometry:\n",
    "    geom_xs, geom_ys = extract_coordinates(geom)\n",
    "    if geom_xs and geom_ys:\n",
    "        xs.extend(geom_xs)\n",
    "        ys.extend(geom_ys)\n",
    "\n"
   ]
  },
  {
   "cell_type": "code",
   "execution_count": 6,
   "metadata": {},
   "outputs": [],
   "source": [
    "# Set up the Bokeh plot\n",
    "output_file(\"minard_plot.html\")\n",
    "p = figure(title=\"Napoleon's Russian Campaign\", \n",
    "           x_range=(23, 38.2), \n",
    "           y_range=(53.3, 57), \n",
    "           width=1000, \n",
    "           height=600)\n",
    "\n",
    "# Add the rivers\n",
    "p.multi_line(xs=xs, ys=ys, color='#e5e5e5', line_width=2)\n",
    "\n",
    "# Add the cities\n",
    "city_source = ColumnDataSource(cities)\n",
    "p.scatter(x='Longitude', y='Latitude', size=10, source=city_source, color='#475768', legend_label='Cities', level='overlay')\n",
    "\n",
    "# Add city labels\n",
    "city_labels = LabelSet(x='Longitude', y='Latitude', text='City', \n",
    "                       source=city_source, text_font_size='10pt',\n",
    "                       text_align='left', text_baseline='right')\n",
    "p.add_layout(city_labels)\n",
    "\n",
    "# Add the temperature plot\n",
    "temp_source = ColumnDataSource(temperatures)\n",
    "p.line(x='date', y='temp', color='#EAC260', line_width=3, line_dash='dotted')\n",
    "\n",
    "# Add temperature labels\n",
    "temp_labels = LabelSet(x='date', y='temp', text='temp', \n",
    "                       source=temp_source, text_font_size='10pt',\n",
    "                       text_align='center', text_baseline='middle')\n",
    "p.add_layout(temp_labels)\n",
    "\n"
   ]
  },
  {
   "cell_type": "code",
   "execution_count": 7,
   "metadata": {},
   "outputs": [
    {
     "name": "stderr",
     "output_type": "stream",
     "text": [
      "BokehUserWarning: ColumnDataSource's columns must be of the same length. Current lengths: ('line_width', 15), ('xs', 1), ('ys', 1)\n",
      "BokehUserWarning: ColumnDataSource's columns must be of the same length. Current lengths: ('line_width', 12), ('xs', 1), ('ys', 1)\n",
      "BokehUserWarning: ColumnDataSource's columns must be of the same length. Current lengths: ('line_width', 5), ('xs', 1), ('ys', 1)\n",
      "BokehUserWarning: ColumnDataSource's columns must be of the same length. Current lengths: ('line_width', 11), ('xs', 1), ('ys', 1)\n"
     ]
    }
   ],
   "source": [
    "# Create color palettes for attack and retreat\n",
    "attack_colors = Viridis[3]\n",
    "retreat_colors = Viridis[4]\n",
    "\n",
    "# Use defined colors\n",
    "attack_colors = ['#F0E68C', '#FFDAB9', '#D2B48C', '#f5f600']\n",
    "retreat_colors = ['#20B2AA', '#87CEFA', '#6495ED', '#f5f600']\n",
    "\n",
    "# Add the troops with updated logic for line widths\n",
    "for div in (1, 2):\n",
    "    attack_data = troops_attack[troops_attack.division == div]\n",
    "    retreat_data = troops_retreat[troops_retreat.division == div]\n",
    "\n",
    "    if attack_data.empty or retreat_data.empty:\n",
    "        continue\n",
    "    \n",
    "    # Ensure there are no index issues\n",
    "    line_widths = [x / 6000 for x in attack_data.surviv] if len(attack_data.surviv) > 0 else [1]  # Default to width 1 if empty\n",
    "\n",
    "    p.multi_line(xs=[list(attack_data.lonp)], \n",
    "                 ys=[list(attack_data.latp)], \n",
    "                 color=attack_colors[div - 1], \n",
    "                 line_width=line_widths, \n",
    "                 legend_label=f\"Div {div} Attack\")\n",
    "    \n",
    "    line_widths_retreat = [x / 6000 for x in retreat_data.surviv] if len(retreat_data.surviv) > 0 else [1]\n",
    "    p.multi_line(xs=[list(retreat_data.lonp)], \n",
    "                 ys=[list(retreat_data.latp)], \n",
    "                 color=retreat_colors[div - 1], \n",
    "                 line_width=line_widths_retreat, \n",
    "                 legend_label=f\"Div {div} Retreat\")\n",
    "\n"
   ]
  },
  {
   "cell_type": "code",
   "execution_count": 8,
   "metadata": {},
   "outputs": [
    {
     "name": "stderr",
     "output_type": "stream",
     "text": [
      "BokehUserWarning: ColumnDataSource's columns must be of the same length. Current lengths: ('line_width', 16), ('xs', 1), ('ys', 1)\n",
      "BokehUserWarning: ColumnDataSource's columns must be of the same length. Current lengths: ('line_width', 12), ('xs', 1), ('ys', 1)\n"
     ]
    }
   ],
   "source": [
    "# Update Div 1 attack path to extend to Moscou\n",
    "if not troops_attack.empty and not troops_retreat.empty:\n",
    "    div1_attack_data = troops_attack[troops_attack.division == 1]\n",
    "    div1_retreat_data = troops_retreat[troops_retreat.division == 1]\n",
    "\n",
    "    # Check if the attack path is missing the last point to connect to the retreat path\n",
    "    if div1_attack_data.iloc[-1]['lonp'] != div1_retreat_data.iloc[0]['lonp'] or \\\n",
    "       div1_attack_data.iloc[-1]['latp'] != div1_retreat_data.iloc[0]['latp']:\n",
    "        # Add a new row to the attack data to extend the path to the first retreat point\n",
    "        new_row = {'lonp': div1_retreat_data.iloc[0]['lonp'],\n",
    "                   'latp': div1_retreat_data.iloc[0]['latp'],\n",
    "                   'surviv': div1_attack_data.iloc[-1]['surviv'],\n",
    "                   'direc': 'A',\n",
    "                   'division': 1}\n",
    "        div1_attack_data = pd.concat([div1_attack_data, pd.DataFrame([new_row])], ignore_index=True)\n",
    "\n",
    "    p.multi_line(xs=[list(div1_attack_data.lonp)], \n",
    "                 ys=[list(div1_attack_data.latp)], \n",
    "                 color=attack_colors[0], \n",
    "                 line_width=[x / 6000 for x in div1_attack_data.surviv], \n",
    "                 legend_label=\"Div 1 Attack\")\n",
    "    \n",
    "    p.multi_line(xs=[list(div1_retreat_data.lonp)], \n",
    "                 ys=[list(div1_retreat_data.latp)], \n",
    "                 color=retreat_colors[0], \n",
    "                 line_width=[x / 6000 for x in div1_retreat_data.surviv], \n",
    "                 legend_label=\"Div 1 Retreat\")\n",
    "    \n"
   ]
  },
  {
   "cell_type": "code",
   "execution_count": null,
   "metadata": {},
   "outputs": [
    {
     "name": "stderr",
     "output_type": "stream",
     "text": [
      "BokehUserWarning: ColumnDataSource's columns must be of the same length. Current lengths: ('line_width', 6), ('xs', 1), ('ys', 1)\n",
      "BokehUserWarning: ColumnDataSource's columns must be of the same length. Current lengths: ('line_width', 11), ('xs', 1), ('ys', 1)\n"
     ]
    }
   ],
   "source": [
    "# Update Div 2 attack path to extend to Polotzk\n",
    "if not troops_attack.empty and not troops_retreat.empty:\n",
    "    div2_attack_data = troops_attack[troops_attack.division == 2]\n",
    "    div2_retreat_data = troops_retreat[troops_retreat.division == 2]\n",
    "\n",
    "    # Check if the attack path is missing the last point to connect to the retreat path\n",
    "    if div2_attack_data.iloc[-1]['lonp'] != div2_retreat_data.iloc[0]['lonp'] or \\\n",
    "       div2_attack_data.iloc[-1]['latp'] != div2_retreat_data.iloc[0]['latp']:\n",
    "        # Add a new row to the attack data to extend the path to the first retreat point\n",
    "        new_row = {'lonp': div2_retreat_data.iloc[0]['lonp'],\n",
    "                   'latp': div2_retreat_data.iloc[0]['latp'],\n",
    "                   'surviv': div2_attack_data.iloc[-1]['surviv'],  \n",
    "                   'direc': 'A',\n",
    "                   'division': 2}\n",
    "        div2_attack_data = pd.concat([div2_attack_data, pd.DataFrame([new_row])], ignore_index=True)\n",
    "    \n",
    "    # Calculate line widths dynamically based on survivors\n",
    "    div2_attack_line_widths = [x / 6000 for x in div2_attack_data.surviv]\n",
    "    div2_retreat_line_widths = [x / 6000 for x in div2_retreat_data.surviv]\n",
    "    \n",
    "    p.multi_line(xs=[list(div2_attack_data.lonp)], \n",
    "                 ys=[list(div2_attack_data.latp)], \n",
    "                 color=attack_colors[1],  \n",
    "                 line_width=div2_attack_line_widths, \n",
    "                 legend_label=\"Div 2 Attack\")\n",
    "    \n",
    "    p.multi_line(xs=[list(div2_retreat_data.lonp)], \n",
    "                 ys=[list(div2_retreat_data.latp)], \n",
    "                 color=retreat_colors[1],  \n",
    "                 line_width=div2_retreat_line_widths, \n",
    "                 legend_label=\"Div 2 Retreat\")\n",
    "    \n",
    "\n"
   ]
  },
  {
   "cell_type": "code",
   "execution_count": null,
   "metadata": {},
   "outputs": [
    {
     "name": "stderr",
     "output_type": "stream",
     "text": [
      "ERROR:bokeh.core.validation.check:E-1001 (BAD_COLUMN_NAME): Glyph refers to nonexistent column name. This could either be due to a misspelling or typo, or due to an expected column being missing. : x='date' [no close matches], y='temp' [no close matches] {renderer: GlyphRenderer(id='p1074', ...)}\n"
     ]
    }
   ],
   "source": [
    "p.xaxis.axis_label = \"Longitude\"\n",
    "p.yaxis.axis_label = \"Latitude\"\n",
    "\n",
    "p.add_tools(HoverTool(tooltips=[(\"Longitude\", \"$x\"), (\"Latitude\", \"$y\")]))\n",
    "p.legend.click_policy = \"hide\"\n",
    "p.legend.location = \"top_left\"\n",
    "p.legend.label_height = 10\n",
    "p.legend.label_width = 10\n",
    "p.legend.spacing = 15\n",
    "\n",
    "show(p)"
   ]
  },
  {
   "cell_type": "code",
   "execution_count": null,
   "metadata": {},
   "outputs": [],
   "source": []
  }
 ],
 "metadata": {
  "kernelspec": {
   "display_name": "Python 3",
   "language": "python",
   "name": "python3"
  },
  "language_info": {
   "codemirror_mode": {
    "name": "ipython",
    "version": 3
   },
   "file_extension": ".py",
   "mimetype": "text/x-python",
   "name": "python",
   "nbconvert_exporter": "python",
   "pygments_lexer": "ipython3",
   "version": "3.12.5"
  }
 },
 "nbformat": 4,
 "nbformat_minor": 2
}
